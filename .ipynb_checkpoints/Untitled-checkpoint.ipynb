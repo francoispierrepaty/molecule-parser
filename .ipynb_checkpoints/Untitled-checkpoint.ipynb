{
 "cells": [
  {
   "cell_type": "code",
   "execution_count": 61,
   "metadata": {},
   "outputs": [],
   "source": [
    "import numpy as np\n",
    "import re"
   ]
  },
  {
   "cell_type": "code",
   "execution_count": 81,
   "metadata": {},
   "outputs": [],
   "source": [
    "formula = 'H2O'"
   ]
  },
  {
   "cell_type": "code",
   "execution_count": 82,
   "metadata": {},
   "outputs": [
    {
     "name": "stdout",
     "output_type": "stream",
     "text": [
      "['H', '2', 'O']\n"
     ]
    }
   ],
   "source": [
    "split_formula = re.findall('[A-Z][a-z]?|\\d+|.', formula)\n",
    "print(split_formula)\n",
    "\n"
   ]
  },
  {
   "cell_type": "code",
   "execution_count": 85,
   "metadata": {},
   "outputs": [],
   "source": [
    "count = 1\n",
    "multipliers = [1]\n",
    "atoms = {}\n",
    "\n",
    "for part in split_formula[::-1]:\n",
    "    if part.isalpha():\n",
    "        if part in atoms:\n",
    "            atoms[part] += multipliers[-1]*count\n",
    "        else:\n",
    "            atoms[part] = multipliers[-1]*count\n",
    "        count = 1\n",
    "    elif part.isdecimal():\n",
    "        count = int(part)\n",
    "    elif part in '([{':\n",
    "        multipliers.pop()\n",
    "    elif part in ')]}':\n",
    "        multipliers.append(multipliers[-1]*count)\n",
    "        count = 1\n",
    "    else:\n",
    "        raise ValueError('Unrecognized character in molecule')"
   ]
  },
  {
   "cell_type": "code",
   "execution_count": 84,
   "metadata": {},
   "outputs": [
    {
     "data": {
      "text/plain": [
       "{'O': 1, 'H': 2}"
      ]
     },
     "execution_count": 84,
     "metadata": {},
     "output_type": "execute_result"
    }
   ],
   "source": [
    "atoms"
   ]
  },
  {
   "cell_type": "code",
   "execution_count": null,
   "metadata": {},
   "outputs": [],
   "source": []
  }
 ],
 "metadata": {
  "kernelspec": {
   "display_name": "Python 3",
   "language": "python",
   "name": "python3"
  },
  "language_info": {
   "codemirror_mode": {
    "name": "ipython",
    "version": 3
   },
   "file_extension": ".py",
   "mimetype": "text/x-python",
   "name": "python",
   "nbconvert_exporter": "python",
   "pygments_lexer": "ipython3",
   "version": "3.7.4"
  }
 },
 "nbformat": 4,
 "nbformat_minor": 2
}
